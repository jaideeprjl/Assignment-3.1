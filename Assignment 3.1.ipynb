{
 "cells": [
  {
   "cell_type": "markdown",
   "metadata": {},
   "source": [
    "Assignment 3.1\n",
    "\n",
    "Problem Statement 2:\n",
    "Write a Python program to implement your own myfilter() function which works exactly\n",
    "like Python's built-in function filter()"
   ]
  },
  {
   "cell_type": "code",
   "execution_count": 9,
   "metadata": {},
   "outputs": [
    {
     "name": "stdout",
     "output_type": "stream",
     "text": [
      "The filtered elements with a function as first parameter : [0, 2, 8, 34]\n",
      "The filtered elements with None as first Parameter : [1, 'a', 0, False, True, '0']\n"
     ]
    }
   ],
   "source": [
    "def myfilter(func  , lst):\n",
    "\n",
    "    if func is None :\n",
    "        return [x for x in lst  ]\n",
    "    else:\n",
    "        return [x for x in lst if func(x)]\n",
    "\n",
    "# With a function as first parameter\n",
    "\n",
    "filteredList = myfilter( lambda x: x % 2 == 0,[0,1,1,2,3,5,8,13,21,34,55])\n",
    "print ('The filtered elements with a function as first parameter :',filteredList)\n",
    "\n",
    "# With None as first parameter returing all elements , This is not working though in the original Filter \n",
    "# and gives an error so have attempted to trap it\n",
    "\n",
    "filteredList = myfilter( None ,[1, 'a', 0, False, True, '0'])\n",
    "print ('The filtered elements with None as first Parameter :',filteredList)"
   ]
  },
  {
   "cell_type": "markdown",
   "metadata": {},
   "source": [
    "Problem Statement 1 : \n",
    "Write a Python Program to implement your own myreduce() function which works exactly\n",
    "like Python's built-in function reduce()"
   ]
  },
  {
   "cell_type": "code",
   "execution_count": 8,
   "metadata": {},
   "outputs": [
    {
     "name": "stdout",
     "output_type": "stream",
     "text": [
      "1. The answer is: 113\n",
      "2. The answer is: abcd\n",
      "3. The answer is: 24\n",
      "4. The answer is: 1.0\n",
      "5. The answer is: 1\n"
     ]
    }
   ],
   "source": [
    "def myreduce(func, iterable , start=None ):\n",
    "    if len(iterable) == 0:\n",
    "        return None\n",
    "    \n",
    "    if start is None:\n",
    "        accum_value=iterable[0]\n",
    "    else:\n",
    "        accum_value=start + iterable [0]\n",
    "\n",
    "    ln=len(iterable)\n",
    "    for x in range(1 , ln):\n",
    "        accum_value = func(accum_value, iterable[x])\n",
    "    return accum_value\n",
    "\n",
    "\n",
    "reduceAns = myreduce ( lambda x,y: x+y  ,[47,11,42,13])\n",
    "print ('1. The answer is:',reduceAns)\n",
    "\n",
    "reduceAns = myreduce ( lambda x,y: x+y  ,['a','b','c','d'])               \n",
    "print ('2. The answer is:',reduceAns)\n",
    "\n",
    "reduceAns = myreduce ( lambda x,y: x*y,  [1, 2, 3, 4])\n",
    "print ('3. The answer is:',reduceAns)\n",
    "\n",
    "reduceAns = myreduce ( lambda x,y: x/y, [8, 4, 2] )\n",
    "print ('4. The answer is:',reduceAns)\n",
    "\n",
    "reduceAns = myreduce ( lambda x,y: x*y,  [1])\n",
    "print ('5. The answer is:',reduceAns)"
   ]
  }
 ],
 "metadata": {
  "kernelspec": {
   "display_name": "Python 3",
   "language": "python",
   "name": "python3"
  },
  "language_info": {
   "codemirror_mode": {
    "name": "ipython",
    "version": 3
   },
   "file_extension": ".py",
   "mimetype": "text/x-python",
   "name": "python",
   "nbconvert_exporter": "python",
   "pygments_lexer": "ipython3",
   "version": "3.6.5"
  }
 },
 "nbformat": 4,
 "nbformat_minor": 2
}
